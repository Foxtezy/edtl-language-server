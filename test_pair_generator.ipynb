{
  "nbformat": 4,
  "nbformat_minor": 0,
  "metadata": {
    "colab": {
      "provenance": []
    },
    "kernelspec": {
      "name": "python3",
      "display_name": "Python 3"
    },
    "language_info": {
      "name": "python"
    }
  },
  "cells": [
    {
      "cell_type": "code",
      "source": [
        "import random\n",
        "import sympy as sp\n",
        "\n",
        "def random_boolean_formula(variables, depth=3, prob_literal=0.3, prob_const=0.1):\n",
        "    \"\"\"Генерирует случайную булеву формулу.\"\"\"\n",
        "    if depth == 0 or (random.random() < prob_literal and depth > 1):\n",
        "        if random.random() < prob_const:\n",
        "            return random.choice([sp.true, sp.false])\n",
        "        var = random.choice(variables)\n",
        "        return var if random.random() > 0.5 else ~var\n",
        "\n",
        "    left = random_boolean_formula(variables, depth - 1, prob_literal, prob_const)\n",
        "    right = random_boolean_formula(variables, depth - 1, prob_literal, prob_const)\n",
        "    op = random.choice([sp.And, sp.Or])\n",
        "    return op(left, right)\n",
        "\n",
        "variables = [sp.Symbol(\"x\"), sp.Symbol(\"y\"), sp.Symbol(\"z\")]\n",
        "formula = random_boolean_formula(variables, depth=4)\n",
        "print(formula)"
      ],
      "metadata": {
        "colab": {
          "base_uri": "https://localhost:8080/"
        },
        "id": "sg1OqJrQTeoV",
        "outputId": "29c1ac8d-e65f-4340-dc00-d3eb07204c69"
      },
      "execution_count": null,
      "outputs": [
        {
          "output_type": "stream",
          "name": "stdout",
          "text": [
            "True\n"
          ]
        }
      ]
    },
    {
      "cell_type": "code",
      "source": [
        "def formula_to_edtl(name, formula):\n",
        "    \"\"\"Преобразует булеву формулу в формат EDTL.\"\"\"\n",
        "    return f\"    {name} := {formula_to_string(formula, top_level=True)};\"\n",
        "\n",
        "def formula_to_string(expr, top_level=False):\n",
        "    \"\"\"Преобразует sympy-формулу в строку, убирая ненужные скобки.\"\"\"\n",
        "    if expr == sp.true:\n",
        "        return \"TRUE\"\n",
        "    if expr == sp.false:\n",
        "        return \"FALSE\"\n",
        "    if isinstance(expr, sp.Symbol):\n",
        "        return str(expr)\n",
        "    if isinstance(expr, sp.Not):\n",
        "        inner = formula_to_string(expr.args[0], top_level=False)\n",
        "        return f\"NOT {inner}\"\n",
        "\n",
        "    if isinstance(expr, (sp.And, sp.Or)):\n",
        "        op = \" AND \" if isinstance(expr, sp.And) else \" OR \" if isinstance(expr, sp.Or) else \" XOR \"\n",
        "        args = [formula_to_string(arg, top_level=False) for arg in expr.args]\n",
        "\n",
        "        return op.join(args) if top_level else f\"({op.join(args)})\"\n",
        "\n",
        "    return str(expr)\n",
        "\n",
        "def generate_random_req(req_name, variables):\n",
        "    \"\"\"Генерирует случайное EDTL-требование.\"\"\"\n",
        "    req_parts = {\n",
        "        \"TRIGGER\": random_boolean_formula(variables),\n",
        "        \"RELEASE\": random_boolean_formula(variables),\n",
        "        \"DELAY\": random_boolean_formula(variables),\n",
        "        \"FINAL\": random_boolean_formula(variables),\n",
        "        \"REACTION\": random_boolean_formula(variables),\n",
        "        \"INVARIANT\": random_boolean_formula(variables)\n",
        "    }\n",
        "\n",
        "    edtl_req = f\"REQ {req_name}\\n\"\n",
        "    edtl_req += \"\\n\".join(formula_to_edtl(name, expr) for name, expr in req_parts.items())\n",
        "    edtl_req += \"\\nEND_REQ\"\n",
        "\n",
        "    return edtl_req\n",
        "\n",
        "\n",
        "variables = [sp.Symbol(\"H\"), sp.Symbol(\"D\"), sp.Symbol(\"G\")]\n",
        "print(generate_random_req(\"THIRD\", variables))"
      ],
      "metadata": {
        "colab": {
          "base_uri": "https://localhost:8080/"
        },
        "id": "ZCFX7cPfVNBp",
        "outputId": "532946d9-6512-4d84-a355-42a6a3d0d09b"
      },
      "execution_count": null,
      "outputs": [
        {
          "output_type": "stream",
          "name": "stdout",
          "text": [
            "REQ THIRD\n",
            "    TRIGGER := NOT H OR (G AND NOT G) OR (H AND NOT D);\n",
            "    RELEASE := H OR (G AND NOT G) OR (NOT D AND NOT H);\n",
            "    DELAY := G OR H OR (H AND NOT D);\n",
            "    FINAL := H;\n",
            "    REACTION := NOT G;\n",
            "    INVARIANT := (NOT D OR NOT G) AND (D OR NOT G OR (NOT D AND NOT H));\n",
            "END_REQ\n"
          ]
        }
      ]
    },
    {
      "cell_type": "code",
      "source": [
        "from sympy.logic import satisfiable\n",
        "def is_tautology(expr):\n",
        "  return satisfiable(expr.simplify()) == {True: True}\n",
        "\n",
        "\n",
        "x = sp.Symbol('x')\n",
        "is_tautology(x | ~x)"
      ],
      "metadata": {
        "colab": {
          "base_uri": "https://localhost:8080/"
        },
        "id": "zgrZ5euuwzEr",
        "outputId": "61599641-03b6-4911-c3fc-045b82d4bfea"
      },
      "execution_count": null,
      "outputs": [
        {
          "output_type": "execute_result",
          "data": {
            "text/plain": [
              "True"
            ]
          },
          "metadata": {},
          "execution_count": 7
        }
      ]
    },
    {
      "cell_type": "code",
      "source": [
        "def generate_req_parts(variables):\n",
        "    req_parts = {\n",
        "        \"TRIGGER\": random_boolean_formula(variables),\n",
        "        \"RELEASE\": random_boolean_formula(variables),\n",
        "        \"DELAY\": random_boolean_formula(variables),\n",
        "        \"FINAL\": random_boolean_formula(variables),\n",
        "        \"REACTION\": random_boolean_formula(variables),\n",
        "        \"INVARIANT\": random_boolean_formula(variables)\n",
        "    }\n",
        "    return req_parts\n",
        "\n",
        "def check_conditions(r1, r2, conditions, variables):\n",
        "  if is_tautology(r1[\"TRIGGER\"] >> r2[\"TRIGGER\"]):\n",
        "    rs1, rs2 = r1, r2\n",
        "  elif is_tautology(r2[\"TRIGGER\"] >> r1[\"TRIGGER\"]):\n",
        "    rs1, rs2 = r2, r1\n",
        "  else:\n",
        "    return False\n",
        "\n",
        "  if is_tautology(conditions(rs1, rs2)):\n",
        "    return True\n",
        "  return False\n",
        "\n",
        "\n",
        "def generate_ltl_pair(conditions, variables):\n",
        "  r1 = generate_req_parts(variables)\n",
        "  r2 = generate_req_parts(variables)\n",
        "  while not check_conditions(r1, r2, conditions, variables) :\n",
        "    r1 = generate_req_parts(variables)\n",
        "    r2 = generate_req_parts(variables)\n",
        "  return r1, r2\n",
        "\n",
        "TRG = lambda r1, r2: (r1[\"TRIGGER\"] & ~r1[\"RELEASE\"]) | r1[\"INVARIANT\"] | (r2[\"TRIGGER\"] & ~r2[\"RELEASE\"])\n",
        "\n",
        "conditions = lambda r1, r2: ~(r1[\"INVARIANT\"] & r2[\"INVARIANT\"]) & ~(TRG(r1, r2) >> (r1[\"FINAL\"] & r1[\"REACTION\"])) & ~(TRG(r1, r2) >> (r2[\"FINAL\"] & r2[\"REACTION\"]))\n",
        "generate_ltl_pair(conditions, variables)"
      ],
      "metadata": {
        "colab": {
          "base_uri": "https://localhost:8080/"
        },
        "id": "jHf-n32Nnk_E",
        "outputId": "c7c1f01a-6fd8-4b04-f3a1-447d0dc7f0de"
      },
      "execution_count": null,
      "outputs": [
        {
          "output_type": "execute_result",
          "data": {
            "text/plain": [
              "({'TRIGGER': D | H | ~D | (D & ~D) | (G & ~D),\n",
              "  'RELEASE': False,\n",
              "  'DELAY': D,\n",
              "  'FINAL': H & (D | ~D | (~D & ~G)),\n",
              "  'REACTION': ~H & ((D & H) | (D & ~D)),\n",
              "  'INVARIANT': ~D},\n",
              " {'TRIGGER': H & (H | ~G),\n",
              "  'RELEASE': G | ~D | ~G | (D & ~G),\n",
              "  'DELAY': H,\n",
              "  'FINAL': False,\n",
              "  'REACTION': D | G | H | ~H | (D & G & ~D & ~G),\n",
              "  'INVARIANT': D})"
            ]
          },
          "metadata": {},
          "execution_count": 8
        }
      ]
    },
    {
      "cell_type": "code",
      "source": [
        "def generate_edtl_pair(conditions, variables):\n",
        "    \"\"\"Генерирует случайное EDTL-требование.\"\"\"\n",
        "    r1, r2 = generate_ltl_pair(conditions, variables)\n",
        "\n",
        "    edtl_reqs = \"VAR_INPUT\\n\"\n",
        "    edtl_reqs += \"\\n\".join(f\"    {var} : BOOL;\" for var in variables)\n",
        "    edtl_reqs += \"\\nEND_VAR\\n\\n\"\n",
        "\n",
        "    edtl_reqs += \"REQ FIRST\\n\"\n",
        "    edtl_reqs += \"\\n\".join(formula_to_edtl(name, expr) for name, expr in r1.items())\n",
        "    edtl_reqs += \"\\nEND_REQ\\n\\n\"\n",
        "\n",
        "    edtl_reqs += \"REQ SECOND\\n\"\n",
        "    edtl_reqs += \"\\n\".join(formula_to_edtl(name, expr) for name, expr in r2.items())\n",
        "    edtl_reqs += \"\\nEND_REQ\\n\\n\"\n",
        "\n",
        "    return edtl_reqs\n",
        "\n",
        "print(generate_edtl_pair(conditions, variables))"
      ],
      "metadata": {
        "colab": {
          "base_uri": "https://localhost:8080/"
        },
        "id": "aBFtjiS7Arh5",
        "outputId": "ffcf2c48-2c4a-4223-a5a2-1023c6273c3c"
      },
      "execution_count": null,
      "outputs": [
        {
          "output_type": "stream",
          "name": "stdout",
          "text": [
            "VAR_INPUT\n",
            "    H : BOOL;\n",
            "    D : BOOL;\n",
            "    G : BOOL;\n",
            "END_VAR\n",
            "\n",
            "REQ FIRST\n",
            "    TRIGGER := NOT G OR ((G OR NOT H) AND (NOT D OR NOT G));\n",
            "    RELEASE := G OR NOT H OR (G AND NOT G);\n",
            "    DELAY := NOT D OR (D AND H);\n",
            "    FINAL := G AND H AND NOT H AND (H OR NOT G);\n",
            "    REACTION := G;\n",
            "    INVARIANT := G;\n",
            "END_REQ\n",
            "\n",
            "REQ SECOND\n",
            "    TRIGGER := (H AND NOT G AND (G OR NOT G)) OR ((D OR NOT D) AND (H OR NOT H));\n",
            "    RELEASE := H;\n",
            "    DELAY := H OR NOT D OR (G AND NOT H) OR (H AND NOT H);\n",
            "    FINAL := NOT H;\n",
            "    REACTION := (D AND H) OR (D AND NOT D) OR (H AND NOT H);\n",
            "    INVARIANT := FALSE;\n",
            "END_REQ\n",
            "\n",
            "\n"
          ]
        }
      ]
    },
    {
      "cell_type": "code",
      "source": [
        "TRG = lambda r1, r2: (r1[\"TRIGGER\"] & ~r1[\"RELEASE\"]) | r1[\"INVARIANT\"] | (r2[\"TRIGGER\"] & ~r2[\"RELEASE\"])\n",
        "\n",
        "conditions1 = lambda r1, r2: ~(r1[\"INVARIANT\"] & r2[\"INVARIANT\"]) & ~(TRG(r1, r2) >> (r1[\"FINAL\"] & r1[\"REACTION\"])) & ~(TRG(r1, r2) >> (r2[\"FINAL\"] & r2[\"REACTION\"]))\n",
        "\n",
        "conditions2 = lambda r1, r2: ~(r1[\"RELEASE\"] & r2[\"INVARIANT\"]) & ~(TRG(r1, r2) >> (r2[\"FINAL\"] & r2[\"REACTION\"]))\n",
        "\n",
        "conditions3 = lambda r1, r2: ~((r1[\"FINAL\"] & r1[\"REACTION\"]) & r2[\"INVARIANT\"]) & ~(TRG(r1, r2) >> (r2[\"FINAL\"] & r2[\"REACTION\"]))\n",
        "\n",
        "conditions4 = lambda r1, r2: (r1[\"RELEASE\"] >> r2[\"FINAL\"]) & ~(r1[\"RELEASE\"] & r2[\"INVARIANT\"]) & ~((r1[\"RELEASE\"] | r2[\"FINAL\"]) >> (r2[\"RELEASE\"] | r2[\"REACTION\"]))\n",
        "\n",
        "conditions5 = lambda r1, r2: (r1[\"REACTION\"] >> r2[\"FINAL\"]) & ~(r1[\"REACTION\"] & r2[\"INVARIANT\"]) & ~((r1[\"REACTION\"] | r2[\"FINAL\"]) >> (r2[\"RELEASE\"] | r2[\"REACTION\"]))\n",
        "\n",
        "conditions6 = lambda r1, r2: (r1[\"FINAL\"] >> r2[\"FINAL\"]) & ~(r1[\"FINAL\"] & r2[\"INVARIANT\"]) & ~((r1[\"FINAL\"] | r2[\"FINAL\"]) >> (r2[\"RELEASE\"] | r2[\"REACTION\"]))\n",
        "\n",
        "conditions7 = lambda r1, r2: (r1[\"FINAL\"] >> r2[\"FINAL\"]) & ~(r1[\"INVARIANT\"] & ~r2[\"DELAY\"]) & ~((r1[\"INVARIANT\"] | r1[\"FINAL\"]) & r2[\"RELEASE\"]) & ~((r1[\"INVARIANT\"] | r1[\"FINAL\"]) & r2[\"REACTION\"])\n",
        "\n",
        "conditions_no = lambda r1, r2: not is_tautology(conditions1(r1, r2)) and not is_conditions2(r1, r2) and not is_tautology(conditions3(r1, r2)) and not is_tautology(conditions4(r1, r2)) and not is_tautology(conditions5(r1, r2)) and not is_tautology(conditions6(r1, r2)) and not is_tautology(conditions7(r1, r2))\n"
      ],
      "metadata": {
        "id": "UK1aNlt6DKjA"
      },
      "execution_count": null,
      "outputs": []
    },
    {
      "cell_type": "code",
      "source": [
        "import random\n",
        "import string\n",
        "\n",
        "def random_variables(min_size=2, max_size=10):\n",
        "    num_letters = random.randint(min_size, max_size)\n",
        "    letters = random.sample(sp.symbols('A,B,C,D,E,F,G,H,I,J,K,L,M,N,O,P,Q,R,S,T,U,V,W,X,Y,Z'), num_letters)\n",
        "    return letters\n",
        "\n",
        "variables = random_variables()\n",
        "print(variables)"
      ],
      "metadata": {
        "colab": {
          "base_uri": "https://localhost:8080/"
        },
        "id": "1NBOKHNWIRIm",
        "outputId": "eb007ff9-8170-495b-cc97-bab9572fe8ad"
      },
      "execution_count": null,
      "outputs": [
        {
          "output_type": "stream",
          "name": "stdout",
          "text": [
            "[V, E, X]\n"
          ]
        }
      ]
    },
    {
      "cell_type": "code",
      "source": [
        "import os\n",
        "import random\n",
        "import string\n",
        "import zipfile\n",
        "\n",
        "conditions = [conditions1, conditions2, conditions3, conditions4, conditions5, conditions6, conditions7, conditions_no]\n",
        "\n",
        "folder_name = \"edtl_tests\"\n",
        "if not os.path.exists(folder_name):\n",
        "    os.makedirs(folder_name)\n",
        "\n",
        "for idx, condition in enumerate(conditions, start=1):\n",
        "    for i in range(1, 51):\n",
        "      filename = os.path.join(folder_name, f\"reqs_{idx}_{i:03d}.edtl\")\n",
        "\n",
        "      if not os.path.exists(filename):\n",
        "        text = generate_edtl_pair(condition, random_variables())\n",
        "        with open(filename, 'w', encoding='utf-8') as f:\n",
        "          f.write(text)\n",
        "    print(idx)\n",
        "\n",
        "\n",
        "zip_filename = \"reqs.zip\"\n",
        "with zipfile.ZipFile(zip_filename, 'w', zipfile.ZIP_DEFLATED) as zipf:\n",
        "    for file in os.listdir(folder_name):\n",
        "        zipf.write(os.path.join(folder_name, file), file)\n",
        "\n",
        "print(f\"Создан ZIP-архив: {zip_filename}\")"
      ],
      "metadata": {
        "colab": {
          "base_uri": "https://localhost:8080/"
        },
        "id": "HpZexoDEOW1-",
        "outputId": "a6691e6a-8be4-4660-9da7-5ca3b72e4b84"
      },
      "execution_count": null,
      "outputs": [
        {
          "output_type": "stream",
          "name": "stdout",
          "text": [
            "1\n",
            "2\n",
            "3\n",
            "4\n",
            "5\n",
            "6\n",
            "7\n",
            "Создан ZIP-архив: reqs.zip\n"
          ]
        }
      ]
    },
    {
      "cell_type": "code",
      "source": [
        "import shutil\n",
        "shutil.rmtree(folder_name)\n",
        "print(f\"Временная папка {folder_name} удалена\")"
      ],
      "metadata": {
        "colab": {
          "base_uri": "https://localhost:8080/"
        },
        "id": "nly98RMpTjMt",
        "outputId": "56d9b551-66d6-4b4a-e8c2-7c2417151355"
      },
      "execution_count": null,
      "outputs": [
        {
          "output_type": "stream",
          "name": "stdout",
          "text": [
            "Временная папка edtl_tests удалена\n"
          ]
        }
      ]
    }
  ]
}